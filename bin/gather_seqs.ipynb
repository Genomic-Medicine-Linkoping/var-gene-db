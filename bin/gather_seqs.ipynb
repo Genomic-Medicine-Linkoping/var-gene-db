{
 "cells": [
  {
   "cell_type": "markdown",
   "id": "883117fe-8c54-4a33-a0b3-f55b419ebfa3",
   "metadata": {},
   "source": [
    "# Gather sequences into fasta files based on an seq ID list"
   ]
  },
  {
   "cell_type": "code",
   "execution_count": 1,
   "id": "407534c7-ab4a-4a37-8ad0-825edc451d7d",
   "metadata": {},
   "outputs": [],
   "source": [
    "from Bio import SeqIO as si\n",
    "import csv\n",
    "from collections import namedtuple\n",
    "import re"
   ]
  },
  {
   "cell_type": "markdown",
   "id": "97f8657a-ffbc-4fc0-901e-fc3c0e3b4e48",
   "metadata": {},
   "source": [
    "## Read in a list of ids of non-coding sequences"
   ]
  },
  {
   "cell_type": "code",
   "execution_count": 2,
   "id": "ce4c0388-f5d7-43c9-b514-bd626f50d5ba",
   "metadata": {},
   "outputs": [],
   "source": [
    "nonc_ids = []\n",
    "with open(\"../proc/non-coding.txt\", newline=\"\") as infile:\n",
    "    reader = csv.reader(infile)\n",
    "    for row in reader:\n",
    "        nonc_ids.append(row[0])"
   ]
  },
  {
   "cell_type": "code",
   "execution_count": 3,
   "id": "b69a0cef-222b-4e1d-932b-b8d984fa996b",
   "metadata": {},
   "outputs": [
    {
     "data": {
      "text/plain": [
       "('PVL_EU368820', 117)"
      ]
     },
     "execution_count": 3,
     "metadata": {},
     "output_type": "execute_result"
    }
   ],
   "source": [
    "nonc_ids[0], len(nonc_ids)"
   ]
  },
  {
   "cell_type": "code",
   "execution_count": 4,
   "id": "1ace7150-ccd7-4b86-8b5f-7d164b7cabdc",
   "metadata": {},
   "outputs": [
    {
     "name": "stdout",
     "output_type": "stream",
     "text": [
      "['PVL_EU368820', 'PVL_FJ821791', 'PVL_FJ895584', 'PVL_HM584701', 'PVL_HM584703', 'PVL_HM584704', 'PVL_HM584706', 'PVL_HM584708', 'PVL_JN635504', 'PVL_JN635506', 'PVL_JN635507', 'PVL_JN635508', 'PVL_JN635510', 'VanB_5_NG_048333_1', 'VanB_9_NG_048339_1', 'VanC_10_NG_048343_1', 'VanC_11_NG_048345_1', 'VanC_12_NG_048354_1', 'VanC_13_NG_048355_1', 'VanC_14_NG_048356_1', 'VanC_15_NG_048357_1', 'VanC_16', 'VanC_17', 'VanC_1_NG_048344_1', 'VanC_2_NG_048346_1', 'VanC_3_NG_048347_1', 'VanC_4_NG_048348_1', 'VanC_5_NG_048349_1', 'VanC_6_NG_048350_1', 'VanC_7_NG_048351_1', 'VanC_8_NG_048352_1', 'VanC_9_NG_048353_1', 'blaCMY_12', 'blaCMY_3', 'blaCTX_M_106', 'blaCTX_M_107_JF274244.1', 'blaCTX_M_108_JF274245.1', 'blaCTX_M_109_JF274248', 'blaCTX_M_110', 'blaKPC_9', 'blaPER_5', 'blaSHV_123_GQ390805', 'blaSHV_126_GQ390808', 'blaSHV_152', 'blaSHV_153', 'blaSHV_163', 'blaSHV_165', 'blaTEM_118_AY130285.1', 'blaTEM_199', 'blaTEM_205', 'blaTEM_21', 'blaTEM_22', 'blaTEM_42_X98047.1', 'blaTEM_89_AY039040', 'erm41_10_28T', 'erm41_11_28T', 'erm41_12_28T', 'erm41_13_28T', 'erm41_14_28C', 'erm41_15_truncated', 'erm41_16_28T', 'erm41_1_28T', 'erm41_2_28C', 'erm41_3_truncated', 'erm41_4_28T', 'erm41_5_28T', 'erm41_6_28T', 'erm41_7_28T', 'erm41_8_28T', 'erm41_9_28T', 'hsp65_1', 'hsp65_10', 'hsp65_11', 'hsp65_12', 'hsp65_13', 'hsp65_14', 'hsp65_15', 'hsp65_2', 'hsp65_3', 'hsp65_4', 'hsp65_5', 'hsp65_6', 'hsp65_7', 'hsp65_8', 'hsp65_9', 'rpoB_1', 'rpoB_10', 'rpoB_11', 'rpoB_12', 'rpoB_13', 'rpoB_2', 'rpoB_3', 'rpoB_4', 'rpoB_5', 'rpoB_6', 'rpoB_7', 'rpoB_8', 'rpoB_9', 'rrl_abscessus_chelonae_A2058C', 'rrl_abscessus_chelonae_A2058G', 'rrl_abscessus_chelonae_A2058T', 'rrl_abscessus_chelonae_A2059C', 'rrl_abscessus_chelonae_A2059G', 'rrl_abscessus_chelonae_A2059T', 'rrl_abscessus_chelonae_WT', 'rrl_avium_WT', 'rrl_intracellulare_chimaera_WT', 'rrs_A1408G', 'rrs_A1408G_avium', 'rrs_A1408G_chelonae', 'rrs_A1408G_intraC_chim', 'rrs_C1409T', 'rrs_T1406A', 'rrs_WT', 'rrs_WT_avium', 'rrs_WT_chelonae', 'rrs_WT_intraC_chim']\n"
     ]
    }
   ],
   "source": [
    "print(nonc_ids)"
   ]
  },
  {
   "cell_type": "markdown",
   "id": "756081f6-bff0-4259-913d-0f6a7a4c920f",
   "metadata": {},
   "source": [
    "## Read in all sequences"
   ]
  },
  {
   "cell_type": "code",
   "execution_count": 5,
   "id": "feb6bbb1-c205-476b-90ae-6e08cd85d671",
   "metadata": {},
   "outputs": [],
   "source": [
    "seqs = si.to_dict(si.parse(\"../final/coding_non-coding.fa\", \"fasta\"))"
   ]
  },
  {
   "cell_type": "code",
   "execution_count": 6,
   "id": "f3785418-c847-4d89-9d48-fd2f6d424e77",
   "metadata": {},
   "outputs": [
    {
     "data": {
      "text/plain": [
       "641"
      ]
     },
     "execution_count": 6,
     "metadata": {},
     "output_type": "execute_result"
    }
   ],
   "source": [
    "len(seqs)"
   ]
  },
  {
   "cell_type": "code",
   "execution_count": 7,
   "id": "4252e4e1-37cf-49ae-9598-9ca5c644a4c7",
   "metadata": {
    "tags": []
   },
   "outputs": [
    {
     "data": {
      "text/plain": [
       "dict_keys(['blaBEL_1', 'blaBEL_2', 'blaBEL_3', 'blaCTX_M_1', 'blaCTX_M_1_2d', 'blaCTX_M_10', 'blaCTX_M_101', 'blaCTX_M_102', 'blaCTX_M_103', 'blaCTX_M_104', 'blaCTX_M_105', 'blaCTX_M_106', 'blaCTX_M_11', 'blaCTX_M_110', 'blaCTX_M_111', 'blaCTX_M_112', 'blaCTX_M_113', 'blaCTX_M_114', 'blaCTX_M_116', 'blaCTX_M_117', 'blaCTX_M_12', 'blaCTX_M_121', 'blaCTX_M_123', 'blaCTX_M_124', 'blaCTX_M_126', 'blaCTX_M_13', 'blaCTX_M_131', 'blaCTX_M_132', 'blaCTX_M_134', 'blaCTX_M_136', 'blaCTX_M_139', 'blaCTX_M_14', 'blaCTX_M_14_2d', 'blaCTX_M_142', 'blaCTX_M_14b', 'blaCTX_M_14b_2d', 'blaCTX_M_15', 'blaCTX_M_15_2d', 'blaCTX_M_15_3d', 'blaCTX_M_16', 'blaCTX_M_17', 'blaCTX_M_17_2d', 'blaCTX_M_19', 'blaCTX_M_2', 'blaCTX_M_20', 'blaCTX_M_21', 'blaCTX_M_22', 'blaCTX_M_22_2d', 'blaCTX_M_23', 'blaCTX_M_24', 'blaCTX_M_24_2d', 'blaCTX_M_24_3d', 'blaCTX_M_25', 'blaCTX_M_26', 'blaCTX_M_27', 'blaCTX_M_28', 'blaCTX_M_29', 'blaCTX_M_3', 'blaCTX_M_3_2d', 'blaCTX_M_30', 'blaCTX_M_31', 'blaCTX_M_32', 'blaCTX_M_33', 'blaCTX_M_34', 'blaCTX_M_35', 'blaCTX_M_36', 'blaCTX_M_37', 'blaCTX_M_38', 'blaCTX_M_39', 'blaCTX_M_4', 'blaCTX_M_40', 'blaCTX_M_41', 'blaCTX_M_42', 'blaCTX_M_43', 'blaCTX_M_44', 'blaCTX_M_45', 'blaCTX_M_46', 'blaCTX_M_47', 'blaCTX_M_48', 'blaCTX_M_49', 'blaCTX_M_5', 'blaCTX_M_5_2d', 'blaCTX_M_50', 'blaCTX_M_51', 'blaCTX_M_52', 'blaCTX_M_53', 'blaCTX_M_54', 'blaCTX_M_55', 'blaCTX_M_56', 'blaCTX_M_58', 'blaCTX_M_59', 'blaCTX_M_6', 'blaCTX_M_60', 'blaCTX_M_61', 'blaCTX_M_62', 'blaCTX_M_63', 'blaCTX_M_64', 'blaCTX_M_65', 'blaCTX_M_65_2d', 'blaCTX_M_66', 'blaCTX_M_67', 'blaCTX_M_68', 'blaCTX_M_69', 'blaCTX_M_71', 'blaCTX_M_72', 'blaCTX_M_76', 'blaCTX_M_77', 'blaCTX_M_78', 'blaCTX_M_79', 'blaCTX_M_8', 'blaCTX_M_81', 'blaCTX_M_88', 'blaCTX_M_89', 'blaCTX_M_9', 'blaCTX_M_9_2d', 'blaCTX_M_91', 'blaCTX_M_93', 'blaCTX_M_94', 'blaCTX_M_95', 'blaCTX_M_96', 'blaGES_1', 'blaGES_10', 'blaGES_11', 'blaGES_12', 'blaGES_16', 'blaGES_19', 'blaGES_22', 'blaGES_3', 'blaGES_7', 'blaGES_8', 'blaGES_9', 'blaPER_1', 'blaPER_1_KP054476', 'blaPER_2', 'blaPER_3', 'blaPER_4', 'blaPER_5', 'blaPER_6', 'blaPER_7', 'blaSHV_102', 'blaSHV_105', 'blaSHV_106', 'blaSHV_12', 'blaSHV_12_2d', 'blaSHV_120', 'blaSHV_128', 'blaSHV_129', 'blaSHV_13', 'blaSHV_134', 'blaSHV_141', 'blaSHV_15', 'blaSHV_152', 'blaSHV_153', 'blaSHV_16', 'blaSHV_160', 'blaSHV_163', 'blaSHV_164', 'blaSHV_165', 'blaSHV_18', 'blaSHV_2', 'blaSHV_2_2d', 'blaSHV_2_3d', 'blaSHV_25', 'blaSHV_28', 'blaSHV_28_2d', 'blaSHV_28_3d', 'blaSHV_29', 'blaSHV_2a', 'blaSHV_30', 'blaSHV_31', 'blaSHV_31_2d', 'blaSHV_34', 'blaSHV_45', 'blaSHV_46', 'blaSHV_5', 'blaSHV_55', 'blaSHV_64', 'blaSHV_66', 'blaSHV_7', 'blaSHV_86', 'blaTEM_10', 'blaTEM_101', 'blaTEM_102', 'blaTEM_106', 'blaTEM_107', 'blaTEM_109', 'blaTEM_11', 'blaTEM_111', 'blaTEM_113', 'blaTEM_114', 'blaTEM_115', 'blaTEM_12', 'blaTEM_120', 'blaTEM_121', 'blaTEM_123', 'blaTEM_124', 'blaTEM_125', 'blaTEM_129', 'blaTEM_130', 'blaTEM_131', 'blaTEM_132', 'blaTEM_133', 'blaTEM_134', 'blaTEM_136', 'blaTEM_137', 'blaTEM_138', 'blaTEM_139', 'blaTEM_142', 'blaTEM_143', 'blaTEM_144', 'blaTEM_147', 'blaTEM_149', 'blaTEM_15', 'blaTEM_151', 'blaTEM_152', 'blaTEM_153', 'blaTEM_154', 'blaTEM_155', 'blaTEM_158', 'blaTEM_167', 'blaTEM_17', 'blaTEM_177', 'blaTEM_187', 'blaTEM_188', 'blaTEM_193', 'blaTEM_195', 'blaTEM_197', 'blaTEM_199', 'blaTEM_205', 'blaTEM_21', 'blaTEM_211', 'blaTEM_22', 'blaTEM_24', 'blaTEM_28', 'blaTEM_29', 'blaTEM_3', 'blaTEM_43', 'blaTEM_47', 'blaTEM_48', 'blaTEM_49', 'blaTEM_52B', 'blaTEM_52C', 'blaTEM_53', 'blaTEM_6', 'blaTEM_60', 'blaTEM_63', 'blaTEM_68', 'blaTEM_71', 'blaTEM_72', 'blaTEM_8', 'blaTEM_85', 'blaTEM_86', 'blaTEM_87', 'blaTEM_88', 'blaTEM_91', 'blaTEM_92', 'blaTEM_93', 'blaTEM_94', 'blaTEM_99', 'blaVEB_1', 'blaVEB_1_2d', 'blaVEB_1_3d', 'blaVEB_2', 'blaVEB_3', 'blaVEB_4', 'blaVEB_5', 'blaVEB_6', 'blaVEB_7', 'blaVEB_8', 'blaSHV_126_GQ390808', 'blaSHV_123_GQ390805', 'blaTEM_118_AY130285.1', 'blaTEM_89_AY039040', 'blaCTX_M_109_JF274248', 'blaCTX_M_108_JF274245.1', 'blaCTX_M_107_JF274244.1', 'blaTEM_42_X98047.1', 'blaGES_13', 'blaGES_14', 'blaGES_15', 'blaGES_17', 'blaGES_18', 'blaGES_2', 'blaGES_20', 'blaGES_21', 'blaGES_4', 'blaGES_5', 'blaGES_6', 'blaGIM_1', 'blaIMP_1', 'blaIMP_10', 'blaIMP_13', 'blaIMP_19', 'blaIMP_20', 'blaIMP_24', 'blaIMP_25', 'blaIMP_26', 'blaIMP_3', 'blaIMP_4', 'blaIMP_4_2d', 'blaIMP_5', 'blaIMP_6', 'blaIMP_7', 'blaIMP_8', 'blaKPC_1', 'blaKPC_10', 'blaKPC_11', 'blaKPC_12', 'blaKPC_13', 'blaKPC_14', 'blaKPC_15', 'blaKPC_16', 'blaKPC_2', 'blaKPC_3', 'blaKPC_4', 'blaKPC_5', 'blaKPC_6', 'blaKPC_7', 'blaKPC_8', 'blaKPC_9', 'blaNDM_1', 'blaNDM_10', 'blaNDM_2', 'blaNDM_3', 'blaNDM_4', 'blaNDM_5', 'blaNDM_6', 'blaNDM_7', 'blaNDM_8', 'blaNDM_9', 'blaOXA_139', 'blaOXA_146', 'blaOXA_162', 'blaOXA_163', 'blaOXA_164', 'blaOXA_165', 'blaOXA_166', 'blaOXA_167', 'blaOXA_168', 'blaOXA_169', 'blaOXA_170', 'blaOXA_171', 'blaOXA_181', 'blaOXA_204', 'blaOXA_207', 'blaOXA_225', 'blaOXA_23', 'blaOXA_232', 'blaOXA_239', 'blaOXA_24', 'blaOXA_244', 'blaOXA_245', 'blaOXA_247', 'blaOXA_25', 'blaOXA_26', 'blaOXA_27', 'blaOXA_48', 'blaOXA_49', 'blaOXA_58', 'blaOXA_58_2d', 'blaOXA_66', 'blaOXA_72', 'blaOXA_73', 'blaOXA_96', 'blaSPM_1', 'blaVIM_1', 'blaVIM_10', 'blaVIM_11', 'blaVIM_12', 'blaVIM_13', 'blaVIM_14', 'blaVIM_15', 'blaVIM_16', 'blaVIM_17', 'blaVIM_18', 'blaVIM_19', 'blaVIM_2', 'blaVIM_20', 'blaVIM_23', 'blaVIM_24', 'blaVIM_25', 'blaVIM_26', 'blaVIM_27', 'blaVIM_28', 'blaVIM_29', 'blaVIM_3', 'blaVIM_30', 'blaVIM_31', 'blaVIM_32', 'blaVIM_33', 'blaVIM_34', 'blaVIM_35', 'blaVIM_36', 'blaVIM_37', 'blaVIM_38', 'blaVIM_4', 'blaVIM_5', 'blaVIM_6', 'blaVIM_8', 'blaVIM_9', 'blaKPC_17_KC465200.1', 'blaOXA_370_KF900153.1', 'blaACC_1', 'blaACC_2', 'blaACC_4', 'blaACT_1', 'blaACT_10', 'blaACT_3', 'blaACT_6', 'blaACT_7', 'blaACT_9', 'blaCMY_1', 'blaCMY_10', 'blaCMY_11', 'blaCMY_12', 'blaCMY_14', 'blaCMY_14_2d', 'blaCMY_2', 'blaCMY_3', 'blaCMY_38', 'blaCMY_4', 'blaCMY_42', 'blaCMY_42_CP023957', 'blaCMY_42_b', 'blaCMY_43', 'blaCMY_44', 'blaCMY_45', 'blaCMY_49', 'blaCMY_5', 'blaCMY_51', 'blaCMY_53', 'blaCMY_54', 'blaCMY_55', 'blaCMY_56', 'blaCMY_57', 'blaCMY_59', 'blaCMY_6', 'blaCMY_60', 'blaCMY_61', 'blaCMY_62', 'blaCMY_63', 'blaCMY_7', 'blaCMY_71', 'blaCMY_73', 'blaCMY_8', 'blaCMY_8_2d', 'blaCMY_80', 'blaCMY_9', 'blaCMY_94', 'blaCMY_95', 'blaCMY_99', 'blaDHA_1', 'blaDHA_1_JX495964', 'blaDHA_2', 'blaDHA_3', 'blaDHA_5', 'blaDHA_6', 'blaDHA_7', 'blaFOX_1', 'blaFOX_10', 'blaFOX_2', 'blaFOX_3', 'blaFOX_4', 'blaFOX_5', 'blaFOX_6', 'blaFOX_7', 'blaFOX_8', 'blaFOX_9', 'blaMIR_1', 'blaMIR_2', 'blaMIR_3', 'blaMIR_4', 'blaMIR_5', 'blaMIR_6', 'blaMOX_1', 'blaMOX_2', 'blaMOX_4', 'blaVCC_1', 'blaCMY_50_FN645444.1', 'mecA_4_AB033763', 'mecA_7_BA000018', 'mecA_10_AB512767', 'mecA_14_AB505630', 'mecA_15_AB505628', 'mecC_1_FR823292', 'mecC_2_FR821779_mecA_6', 'VanA_1_FJ866609', 'VanA_2_M97297', 'VanA_3_MG460318_1', 'VanB_1_AF192329', 'VanB_2_AY958220_1', 'VanB_3_U00456_1', 'VanB_4_NG_048332_1', 'VanB_5_NG_048333_1', 'VanB_6_AY655712_1', 'VanB_7_NG_048334_1', 'VanB_8_AY655719_1', 'VanB_9_NG_048339_1', 'VanC_1_NG_048344_1', 'VanC_2_NG_048346_1', 'VanC_3_NG_048347_1', 'VanC_4_NG_048348_1', 'VanC_5_NG_048349_1', 'VanC_6_NG_048350_1', 'VanC_7_NG_048351_1', 'VanC_8_NG_048352_1', 'VanC_9_NG_048353_1', 'VanC_10_NG_048343_1', 'VanC_11_NG_048345_1', 'VanC_12_NG_048354_1', 'VanC_13_NG_048355_1', 'VanC_14_NG_048356_1', 'VanC_15_NG_048357_1', 'VanC_16', 'VanC_17', 'PVL_HM584708', 'PVL_HM584706', 'PVL_HM584704', 'PVL_HM584703', 'PVL_HM584701', 'PVL_JN635510', 'PVL_JN635508', 'PVL_JN635507', 'PVL_JN635506', 'PVL_JN635504', 'PVL_FJ895584', 'PVL_FJ821791', 'PVL_EU368820', 'blaSHV_1', 'blaSHV_1_2d', 'blaSHV_1_3d', 'blaSHV_1_4d', 'blaSHV_1_5d', 'blaSHV_1_6d', 'blaSHV_1_7d', 'blaSHV_1_8d', 'blaSHV_1_9d', 'blaSHV_1_10d', 'blaSHV_1_11d', 'blaSHV_1_12d', 'blaSHV_1_13d', 'blaSHV_1_14d', 'blaSHV_1_15d', 'blaSHV_1_16d', 'blaSHV_1_17d', 'blaSHV_1_18d', 'blaSHV_1_b', 'blaSHV_11', 'blaSHV_11_2d', 'blaSHV_11_3d', 'blaSHV_11_4d', 'blaSHV_11_5d', 'blaSHV_11_6d', 'blaSHV_11_7d', 'blaSHV_11_8d', 'blaSHV_11_9d', 'blaSHV_11_10d', 'blaSHV_11_11d', 'blaSHV_11_12d', 'blaSHV_11_13d', 'blaSHV_11_14d', 'blaSHV_11_15d', 'blaSHV_33', 'blaTEM_1', 'blaTEM_1_2d', 'blaTEM_1_3d', 'blaTEM_1_4d', 'blaTEM_2', 'blaTEM_2_2d', 'blaOXA_1', 'blaOXA_9', 'blaOXA_10', 'blaOXA_10_2d', 'blaIMP_1_AB472901_2', 'blaIMP_13_NG_049176', 'blaCMY_16_2_FJ855437', 'blaCMY_16_1_FM995219', 'blaLAT_1_1_X78117', 'erm41_1_28T', 'erm41_2_28C', 'erm41_3_truncated', 'erm41_4_28T', 'erm41_5_28T', 'erm41_6_28T', 'erm41_7_28T', 'erm41_8_28T', 'erm41_9_28T', 'erm41_10_28T', 'erm41_11_28T', 'erm41_12_28T', 'erm41_13_28T', 'erm41_14_28C', 'erm41_15_truncated', 'erm41_16_28T', 'hsp65_1', 'hsp65_2', 'hsp65_3', 'hsp65_4', 'hsp65_5', 'hsp65_6', 'hsp65_7', 'hsp65_8', 'hsp65_9', 'hsp65_10', 'hsp65_11', 'hsp65_12', 'hsp65_13', 'hsp65_14', 'hsp65_15', 'rpoB_1', 'rpoB_2', 'rpoB_3', 'rpoB_4', 'rpoB_5', 'rpoB_6', 'rpoB_7', 'rpoB_8', 'rpoB_9', 'rpoB_10', 'rpoB_11', 'rpoB_12', 'rpoB_13', 'rrl_abscessus_chelonae_WT', 'rrl_abscessus_chelonae_A2058C', 'rrl_abscessus_chelonae_A2058G', 'rrl_abscessus_chelonae_A2058T', 'rrl_abscessus_chelonae_A2059C', 'rrl_abscessus_chelonae_A2059G', 'rrl_abscessus_chelonae_A2059T', 'rrl_avium_WT', 'rrl_intracellulare_chimaera_WT', 'rrs_WT', 'rrs_A1408G', 'rrs_T1406A', 'rrs_C1409T', 'rrs_WT_chelonae', 'rrs_A1408G_chelonae', 'rrs_WT_avium', 'rrs_WT_intraC_chim', 'rrs_A1408G_avium', 'rrs_A1408G_intraC_chim'])"
      ]
     },
     "execution_count": 7,
     "metadata": {},
     "output_type": "execute_result"
    }
   ],
   "source": [
    "seqs.keys()"
   ]
  },
  {
   "cell_type": "markdown",
   "id": "dc636111-ea1f-4488-a328-b14a425e0a97",
   "metadata": {},
   "source": [
    "## Form a list of non-coding sequences\n",
    "\n",
    "... while removing them from the dictionary containing all sequences."
   ]
  },
  {
   "cell_type": "code",
   "execution_count": 8,
   "id": "feb4e73c-611c-4eeb-aa20-af844282bb22",
   "metadata": {},
   "outputs": [],
   "source": [
    "non_coding = []\n",
    "for id in nonc_ids:\n",
    "    popped = seqs.pop(id)\n",
    "    non_coding.append(popped)"
   ]
  },
  {
   "cell_type": "markdown",
   "id": "7715cb04-e04c-4379-b3b4-2fa2da409ae7",
   "metadata": {},
   "source": [
    "## Write coding sequences"
   ]
  },
  {
   "cell_type": "code",
   "execution_count": 9,
   "id": "80ab02c0-7a34-4b6b-87b0-b278dc322dbb",
   "metadata": {},
   "outputs": [
    {
     "data": {
      "text/plain": [
       "524"
      ]
     },
     "execution_count": 9,
     "metadata": {},
     "output_type": "execute_result"
    }
   ],
   "source": [
    "coding = list(seqs.values())\n",
    "si.write(coding, \"../final/coding.fa\", \"fasta\")"
   ]
  },
  {
   "cell_type": "markdown",
   "id": "32cab978-0701-4c8a-ad85-5c486dc65f8b",
   "metadata": {},
   "source": [
    "## Write non-coding sequences"
   ]
  },
  {
   "cell_type": "code",
   "execution_count": 10,
   "id": "d8847be6-6b8f-466d-bae6-56f51993b512",
   "metadata": {},
   "outputs": [
    {
     "data": {
      "text/plain": [
       "117"
      ]
     },
     "execution_count": 10,
     "metadata": {},
     "output_type": "execute_result"
    }
   ],
   "source": [
    "si.write(non_coding, \"../final/non-coding.fa\", \"fasta\")"
   ]
  },
  {
   "cell_type": "markdown",
   "id": "d56f9778-a9b8-4515-beb4-78cfcfcbd2e1",
   "metadata": {},
   "source": [
    "## Do some sanity checks"
   ]
  },
  {
   "cell_type": "code",
   "execution_count": 11,
   "id": "53ae535b-9e02-4f99-9a58-1abe9b4ffdf6",
   "metadata": {},
   "outputs": [
    {
     "data": {
      "text/plain": [
       "(117, 117)"
      ]
     },
     "execution_count": 11,
     "metadata": {},
     "output_type": "execute_result"
    }
   ],
   "source": [
    "len(nonc_ids), len(non_coding)"
   ]
  },
  {
   "cell_type": "code",
   "execution_count": 12,
   "id": "ece2b23a-3b78-47ae-b336-8070d1ce602a",
   "metadata": {},
   "outputs": [
    {
     "data": {
      "text/plain": [
       "('PVL_EU368820', 'rrs_WT_intraC_chim')"
      ]
     },
     "execution_count": 12,
     "metadata": {},
     "output_type": "execute_result"
    }
   ],
   "source": [
    "nonc_ids[0], nonc_ids[-1]"
   ]
  },
  {
   "cell_type": "code",
   "execution_count": 13,
   "id": "5286c622-ab98-458e-bd0e-8bcb281e4e16",
   "metadata": {},
   "outputs": [
    {
     "data": {
      "text/plain": [
       "(SeqRecord(seq=Seq('ATGGTCAAAAAAAGACTATTAGCTGCAACATTGTCGTTAGGAATAATCACTCCT...TAA'), id='PVL_EU368820', name='PVL_EU368820', description='PVL_EU368820 |||PVL', dbxrefs=[]),\n",
       " SeqRecord(seq=Seq('GCCTGTGTGCAGGTGGTGCATGGCTGTCGTCAGCTCGTGTCGTGAGATGTTGGG...ATC'), id='rrs_WT_intraC_chim', name='rrs_WT_intraC_chim', description='rrs_WT_intraC_chim |||Wildtype rrs', dbxrefs=[]))"
      ]
     },
     "execution_count": 13,
     "metadata": {},
     "output_type": "execute_result"
    }
   ],
   "source": [
    "non_coding[0], non_coding[-1]"
   ]
  }
 ],
 "metadata": {
  "kernelspec": {
   "display_name": "Python 3 (ipykernel)",
   "language": "python",
   "name": "python3"
  },
  "language_info": {
   "codemirror_mode": {
    "name": "ipython",
    "version": 3
   },
   "file_extension": ".py",
   "mimetype": "text/x-python",
   "name": "python",
   "nbconvert_exporter": "python",
   "pygments_lexer": "ipython3",
   "version": "3.8.11"
  }
 },
 "nbformat": 4,
 "nbformat_minor": 5
}
