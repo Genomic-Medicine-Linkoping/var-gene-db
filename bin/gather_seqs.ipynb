{
 "cells": [
  {
   "cell_type": "code",
   "execution_count": 1,
   "id": "407534c7-ab4a-4a37-8ad0-825edc451d7d",
   "metadata": {},
   "outputs": [],
   "source": [
    "from Bio import SeqIO as si\n",
    "import csv\n",
    "from collections import namedtuple\n",
    "import re"
   ]
  },
  {
   "cell_type": "markdown",
   "id": "97f8657a-ffbc-4fc0-901e-fc3c0e3b4e48",
   "metadata": {},
   "source": [
    "## Read in a list of ids of non-coding sequences"
   ]
  },
  {
   "cell_type": "code",
   "execution_count": 2,
   "id": "ce4c0388-f5d7-43c9-b514-bd626f50d5ba",
   "metadata": {},
   "outputs": [],
   "source": [
    "ids = []\n",
    "with open(\"../raw/non-coding.txt\", newline=\"\") as infile:\n",
    "    reader = csv.reader(infile)\n",
    "    for row in reader:\n",
    "        ids.append(row[0])"
   ]
  },
  {
   "cell_type": "code",
   "execution_count": 3,
   "id": "b69a0cef-222b-4e1d-932b-b8d984fa996b",
   "metadata": {},
   "outputs": [
    {
     "data": {
      "text/plain": [
       "'PVL_EU368820'"
      ]
     },
     "execution_count": 3,
     "metadata": {},
     "output_type": "execute_result"
    }
   ],
   "source": [
    "ids[0]"
   ]
  },
  {
   "cell_type": "markdown",
   "id": "756081f6-bff0-4259-913d-0f6a7a4c920f",
   "metadata": {},
   "source": [
    "## Read in all sequences"
   ]
  },
  {
   "cell_type": "code",
   "execution_count": 4,
   "id": "feb6bbb1-c205-476b-90ae-6e08cd85d671",
   "metadata": {},
   "outputs": [],
   "source": [
    "seqs = si.to_dict(si.parse(\"../coding_non-coding.fa\", \"fasta\"))"
   ]
  },
  {
   "cell_type": "code",
   "execution_count": 5,
   "id": "f3785418-c847-4d89-9d48-fd2f6d424e77",
   "metadata": {},
   "outputs": [
    {
     "data": {
      "text/plain": [
       "578"
      ]
     },
     "execution_count": 5,
     "metadata": {},
     "output_type": "execute_result"
    }
   ],
   "source": [
    "len(seqs)"
   ]
  },
  {
   "cell_type": "code",
   "execution_count": 6,
   "id": "1ace7150-ccd7-4b86-8b5f-7d164b7cabdc",
   "metadata": {},
   "outputs": [
    {
     "name": "stdout",
     "output_type": "stream",
     "text": [
      "['PVL_EU368820', 'PVL_FJ821791', 'PVL_FJ895584', 'PVL_HM584701', 'PVL_HM584703', 'PVL_HM584704', 'PVL_HM584706', 'PVL_HM584708', 'PVL_JN635504', 'PVL_JN635506', 'PVL_JN635507', 'PVL_JN635508', 'PVL_JN635510', 'VanB_5_NG_048333_1', 'VanB_9_NG_048339_1', 'VanC_10_NG_048343_1', 'VanC_11_NG_048345_1', 'VanC_12_NG_048354_1', 'VanC_13_NG_048355_1', 'VanC_14_NG_048356_1', 'VanC_15_NG_048357_1', 'VanC_16', 'VanC_17', 'VanC_1_NG_048344_1', 'VanC_2_NG_048346_1', 'VanC_3_NG_048347_1', 'VanC_4_NG_048348_1', 'VanC_5_NG_048349_1', 'VanC_6_NG_048350_1', 'VanC_7_NG_048351_1', 'VanC_8_NG_048352_1', 'VanC_9_NG_048353_1', 'blaCMY_12', 'blaCMY_3', 'blaCTX_M_106', 'blaCTX_M_107_JF274244.1', 'blaCTX_M_108_JF274245.1', 'blaCTX_M_109_JF274248', 'blaCTX_M_110', 'blaKPC_9', 'blaPER_5', 'blaSHV_123_GQ390805', 'blaSHV_126_GQ390808', 'blaSHV_152', 'blaSHV_153', 'blaSHV_163', 'blaSHV_165', 'blaTEM_118_AY130285.1', 'blaTEM_199', 'blaTEM_205', 'blaTEM_21', 'blaTEM_22', 'blaTEM_42_X98047.1', 'blaTEM_89_AY039040']\n"
     ]
    }
   ],
   "source": [
    "print(ids)"
   ]
  },
  {
   "cell_type": "markdown",
   "id": "dc636111-ea1f-4488-a328-b14a425e0a97",
   "metadata": {},
   "source": [
    "## Form a list of non-coding sequences\n",
    "\n",
    "... while removing them from the dictionary containing all sequences."
   ]
  },
  {
   "cell_type": "code",
   "execution_count": 7,
   "id": "feb4e73c-611c-4eeb-aa20-af844282bb22",
   "metadata": {},
   "outputs": [],
   "source": [
    "non_coding = []\n",
    "for id in ids:\n",
    "    popped = seqs.pop(id)\n",
    "    non_coding.append(popped)"
   ]
  },
  {
   "cell_type": "markdown",
   "id": "7715cb04-e04c-4379-b3b4-2fa2da409ae7",
   "metadata": {},
   "source": [
    "## Write coding sequences"
   ]
  },
  {
   "cell_type": "code",
   "execution_count": 8,
   "id": "80ab02c0-7a34-4b6b-87b0-b278dc322dbb",
   "metadata": {},
   "outputs": [
    {
     "data": {
      "text/plain": [
       "524"
      ]
     },
     "execution_count": 8,
     "metadata": {},
     "output_type": "execute_result"
    }
   ],
   "source": [
    "coding = list(seqs.values())\n",
    "si.write(coding, \"../coding.fa\", \"fasta\")"
   ]
  },
  {
   "cell_type": "markdown",
   "id": "32cab978-0701-4c8a-ad85-5c486dc65f8b",
   "metadata": {},
   "source": [
    "## Write non-coding sequences"
   ]
  },
  {
   "cell_type": "code",
   "execution_count": 9,
   "id": "d8847be6-6b8f-466d-bae6-56f51993b512",
   "metadata": {},
   "outputs": [
    {
     "data": {
      "text/plain": [
       "54"
      ]
     },
     "execution_count": 9,
     "metadata": {},
     "output_type": "execute_result"
    }
   ],
   "source": [
    "si.write(non_coding, \"../non-coding.fa\", \"fasta\")"
   ]
  },
  {
   "cell_type": "markdown",
   "id": "d56f9778-a9b8-4515-beb4-78cfcfcbd2e1",
   "metadata": {},
   "source": [
    "## Do some sanity checks"
   ]
  },
  {
   "cell_type": "code",
   "execution_count": 10,
   "id": "53ae535b-9e02-4f99-9a58-1abe9b4ffdf6",
   "metadata": {},
   "outputs": [
    {
     "data": {
      "text/plain": [
       "(54, 54)"
      ]
     },
     "execution_count": 10,
     "metadata": {},
     "output_type": "execute_result"
    }
   ],
   "source": [
    "len(ids), len(non_coding)"
   ]
  },
  {
   "cell_type": "code",
   "execution_count": 11,
   "id": "ece2b23a-3b78-47ae-b336-8070d1ce602a",
   "metadata": {},
   "outputs": [
    {
     "data": {
      "text/plain": [
       "('PVL_EU368820', 'blaTEM_89_AY039040')"
      ]
     },
     "execution_count": 11,
     "metadata": {},
     "output_type": "execute_result"
    }
   ],
   "source": [
    "ids[0], ids[-1]"
   ]
  },
  {
   "cell_type": "code",
   "execution_count": 12,
   "id": "5286c622-ab98-458e-bd0e-8bcb281e4e16",
   "metadata": {},
   "outputs": [
    {
     "data": {
      "text/plain": [
       "(SeqRecord(seq=Seq('ATGGTCAAAAAAAGACTATTAGCTGCAACATTGTCGTTAGGAATAATCACTCCT...TAA'), id='PVL_EU368820', name='PVL_EU368820', description='PVL_EU368820 |||PVL', dbxrefs=[]),\n",
       " SeqRecord(seq=Seq('ATGAGTATTCAACATTTCCGTGTCGCCCTTATTCCCTTTTTTGCGGCATTTTGC...ATA'), id='blaTEM_89_AY039040', name='blaTEM_89_AY039040', description='blaTEM_89_AY039040 |||ESBL_A', dbxrefs=[]))"
      ]
     },
     "execution_count": 12,
     "metadata": {},
     "output_type": "execute_result"
    }
   ],
   "source": [
    "non_coding[0], non_coding[-1]"
   ]
  }
 ],
 "metadata": {
  "kernelspec": {
   "display_name": "Python 3",
   "language": "python",
   "name": "python3"
  },
  "language_info": {
   "codemirror_mode": {
    "name": "ipython",
    "version": 3
   },
   "file_extension": ".py",
   "mimetype": "text/x-python",
   "name": "python",
   "nbconvert_exporter": "python",
   "pygments_lexer": "ipython3",
   "version": "3.9.5"
  }
 },
 "nbformat": 4,
 "nbformat_minor": 5
}
