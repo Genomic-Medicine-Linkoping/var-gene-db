{
 "cells": [
  {
   "cell_type": "code",
   "execution_count": 1,
   "id": "7d0a719d-3360-4b79-bcac-075f02dc30d8",
   "metadata": {},
   "outputs": [],
   "source": [
    "from Bio import SeqIO as si\n",
    "import csv\n",
    "from collections import namedtuple\n",
    "import re"
   ]
  },
  {
   "cell_type": "code",
   "execution_count": 2,
   "id": "2d1d081f-3d9c-4300-ab97-3dc6f0d9943c",
   "metadata": {},
   "outputs": [],
   "source": [
    "name_phenos = {}\n",
    "\n",
    "# Fill up dict with all names and their corresponding phenotypes\n",
    "with open(\"../phenotypes.csv\", newline=\"\") as infile:\n",
    "    reader = csv.reader(infile)\n",
    "    Data = namedtuple(\"Data\", next(reader))  # get names from column headers\n",
    "    for data in map(Data._make, reader):\n",
    "        name_phenos[data.name] = data.phenotype"
   ]
  },
  {
   "cell_type": "code",
   "execution_count": 3,
   "id": "4393eea5-cc76-42ee-aad5-4e3e5f08ea89",
   "metadata": {},
   "outputs": [],
   "source": [
    "# Append to IDs the phenotype info\n",
    "for seq_record in si.parse(\"../diagnostic_genes.fa\", \"fasta\"):\n",
    "    prev_id = seq_record.id\n",
    "    for key in name_phenos.keys():\n",
    "        if(re.search(key, seq_record.id)):\n",
    "            seq_record.id = prev_id + \" |||\" + name_phenos.get(key)"
   ]
  }
 ],
 "metadata": {
  "kernelspec": {
   "display_name": "Python 3",
   "language": "python",
   "name": "python3"
  },
  "language_info": {
   "codemirror_mode": {
    "name": "ipython",
    "version": 3
   },
   "file_extension": ".py",
   "mimetype": "text/x-python",
   "name": "python",
   "nbconvert_exporter": "python",
   "pygments_lexer": "ipython3",
   "version": "3.9.5"
  }
 },
 "nbformat": 4,
 "nbformat_minor": 5
}
